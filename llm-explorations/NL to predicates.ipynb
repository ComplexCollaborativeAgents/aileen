{
 "cells": [
  {
   "cell_type": "code",
   "execution_count": 4,
   "id": "66d09713-1b8b-4b0a-94ad-095219cb5fa2",
   "metadata": {},
   "outputs": [],
   "source": [
    "import json\n",
    "import pandas as pd"
   ]
  },
  {
   "cell_type": "markdown",
   "id": "297ee611-4b96-40cc-9d95-ecb648dfd2b7",
   "metadata": {},
   "source": [
    "# 1. NL to actions"
   ]
  },
  {
   "cell_type": "code",
   "execution_count": 5,
   "id": "bbc4d8cb-f533-408d-9d4e-e0a7b11c3c18",
   "metadata": {},
   "outputs": [
    {
     "name": "stdout",
     "output_type": "stream",
     "text": [
      "790\n",
      "308\n",
      "650\n",
      "459\n",
      "533\n",
      "813\n"
     ]
    },
    {
     "data": {
      "text/plain": [
       "3553"
      ]
     },
     "execution_count": 5,
     "metadata": {},
     "output_type": "execute_result"
    }
   ],
   "source": [
    "# read all train tasks json data \n",
    "cnt = []\n",
    "for i in range(1,7):\n",
    "    df = pd.read_json(\"tw_alfred_seq2seq_train_task\"+str(i)+\"_hc.json\")\n",
    "    print(len(df))\n",
    "    cnt.extend(df.data.to_list())\n",
    "len(cnt)"
   ]
  },
  {
   "cell_type": "code",
   "execution_count": 67,
   "id": "9009467b-42c9-4901-b778-4f682a3e3871",
   "metadata": {},
   "outputs": [],
   "source": [
    "# cnt[0][\"task\"], cnt[0][\"steps\"]"
   ]
  },
  {
   "cell_type": "markdown",
   "id": "9a0c31b5-f87a-4cc0-81a9-3bc2da50df58",
   "metadata": {},
   "source": [
    "We want to get top 10 types of tasks"
   ]
  },
  {
   "cell_type": "code",
   "execution_count": 6,
   "id": "60a0b552-6b7a-4d94-9c10-2aea2d39004b",
   "metadata": {},
   "outputs": [
    {
     "data": {
      "text/plain": [
       "(3553, 3553, {'clean', 'cool', 'examine', 'find', 'heat', 'look', 'put'})"
      ]
     },
     "execution_count": 6,
     "metadata": {},
     "output_type": "execute_result"
    }
   ],
   "source": [
    "# get total types of tasks based on first word\n",
    "tasks = [x[\"task\"] for x in cnt]\n",
    "steps = [x[\"steps\"] for x in cnt]\n",
    "len(tasks), len(steps), set([x.split()[0] for x in tasks])"
   ]
  },
  {
   "cell_type": "code",
   "execution_count": 14,
   "id": "843e2bcd-65d7-46d2-ad2c-f32cf75879d1",
   "metadata": {},
   "outputs": [
    {
     "data": {
      "text/plain": [
       "['put a pillow in sofa.',\n",
       " 'put some spraybottle on cabinet.',\n",
       " 'put a peppershaker in sidetable.',\n",
       " 'put some toiletpaper on toiletpaperhanger.',\n",
       " 'put some keychain on sofa.',\n",
       " 'put some spraybottle on countertop.',\n",
       " 'put some alarmclock on dresser.',\n",
       " 'put some cellphone on sidetable.',\n",
       " 'put some laptop on desk.']"
      ]
     },
     "execution_count": 14,
     "metadata": {},
     "output_type": "execute_result"
    }
   ],
   "source": [
    "# tasks[1:10]"
   ]
  },
  {
   "cell_type": "markdown",
   "id": "4232a94c-c116-4c2d-84af-eb8762b1f409",
   "metadata": {},
   "source": [
    "Looks like we also have complex tasks too. How many?"
   ]
  },
  {
   "cell_type": "code",
   "execution_count": 8,
   "id": "934ff46b-e746-4b3a-8f40-6d94222c2740",
   "metadata": {},
   "outputs": [
    {
     "data": {
      "text/plain": [
       "0.35040810582606247"
      ]
     },
     "execution_count": 8,
     "metadata": {},
     "output_type": "execute_result"
    }
   ],
   "source": [
    "len([x for x in tasks if \" and \" in x])/ len(tasks)"
   ]
  },
  {
   "cell_type": "code",
   "execution_count": 9,
   "id": "74c63f99-5b21-4401-997d-f89313cfc5f8",
   "metadata": {},
   "outputs": [
    {
     "data": {
      "text/plain": [
       "0.794821277793414"
      ]
     },
     "execution_count": 9,
     "metadata": {},
     "output_type": "execute_result"
    }
   ],
   "source": [
    "len([x for x in tasks if \" in \" in x])/ len(tasks)"
   ]
  },
  {
   "cell_type": "code",
   "execution_count": 10,
   "id": "592eb5a1-c70c-45a3-a58f-7acd88f72ce0",
   "metadata": {},
   "outputs": [
    {
     "data": {
      "text/plain": [
       "0.118491415705038"
      ]
     },
     "execution_count": 10,
     "metadata": {},
     "output_type": "execute_result"
    }
   ],
   "source": [
    "len([x for x in tasks if \" on \" in x])/ len(tasks)"
   ]
  },
  {
   "cell_type": "markdown",
   "id": "afe04996-647c-48be-aacf-81b59fd54fcc",
   "metadata": {},
   "source": [
    "any other prominent stopwords? - TODO\n",
    "\n",
    "Let's look at each task type"
   ]
  },
  {
   "cell_type": "code",
   "execution_count": 11,
   "id": "065fae7a-1cee-4ad4-8d6d-dd98a9db0629",
   "metadata": {},
   "outputs": [
    {
     "data": {
      "text/plain": [
       "(2000, 650, 220, 533, 176, 433, 132)"
      ]
     },
     "execution_count": 11,
     "metadata": {},
     "output_type": "execute_result"
    }
   ],
   "source": [
    "put_tasks = [(idx, x) for idx, x in enumerate(tasks) if \"put\" in x and \" and \" not in x]\n",
    "clean_tasks = [(idx, x) for idx, x in enumerate(tasks) if \"clean\" in x ]\n",
    "heat_tasks = [(idx, x) for idx, x in enumerate(tasks) if \"heat\" in x ]\n",
    "cool_tasks = [(idx, x) for idx, x in enumerate(tasks) if \"cool\" in x ]\n",
    "examine_tasks = [(idx, x) for idx, x in enumerate(tasks) if \"examine\" in x ]\n",
    "find_tasks = [(idx, x) for idx, x in enumerate(tasks) if \"find\" in x ]\n",
    "look_tasks = [(idx, x) for idx, x in enumerate(tasks) if \"look\" in x ]\n",
    "\n",
    "len(put_tasks), len(clean_tasks), len(heat_tasks), len(cool_tasks), len(examine_tasks), len(find_tasks), len(look_tasks)"
   ]
  },
  {
   "cell_type": "code",
   "execution_count": 17,
   "id": "e680ba31-cd03-4e14-8a01-adc8b24cd7bf",
   "metadata": {},
   "outputs": [],
   "source": [
    "# heat_tasks"
   ]
  },
  {
   "cell_type": "markdown",
   "id": "3efec82f-9c78-43e0-909e-20f4ebf338ae",
   "metadata": {},
   "source": [
    "<!-- 9th gen i7 8 cores - 13gb cpu ram -->"
   ]
  },
  {
   "cell_type": "code",
   "execution_count": 18,
   "id": "3d891f23-1289-44a7-a180-871410f1dc22",
   "metadata": {},
   "outputs": [],
   "source": [
    "idxs = [794, 1088, 1124, 1195, 1555, 1787, 2228, 2326, 2816, 2829]"
   ]
  },
  {
   "cell_type": "code",
   "execution_count": 19,
   "id": "bb8fdb94-2b6e-4dbb-acda-05dad5c75209",
   "metadata": {},
   "outputs": [
    {
     "name": "stdout",
     "output_type": "stream",
     "text": [
      "examine the alarmclock with the desklamp.\n",
      "look at book under the desklamp.\n",
      "put a clean bowl in fridge.\n",
      "clean some mug and put it in coffeemachine.\n",
      "put a clean knife in drawer.\n",
      "heat some plate and put it in countertop.\n",
      "put a cool plate in diningtable.\n",
      "cool some winebottle and put it in diningtable.\n",
      "find two newspaper and put them in armchair.\n",
      "find two remotecontrol and put them in armchair.\n"
     ]
    }
   ],
   "source": [
    "for idx in idxs:\n",
    "    print(tasks[idx])"
   ]
  },
  {
   "cell_type": "code",
   "execution_count": 162,
   "id": "e20449c3-4252-4a2d-a480-53358170edb0",
   "metadata": {},
   "outputs": [],
   "source": [
    "# idxs = [794, 1088, 1124, 1195, 1555, 1787, 2228, 2326, 2816, 2829]\n",
    "with open(\"selected_nl-action_pairs.csv\", \"w\") as f:\n",
    "    for idx in idxs:\n",
    "        f.write(str(idx) +\",\"+ tasks[idx] + ',\"')\n",
    "        actions = [x[\"action\"] for x in steps[idx]]\n",
    "        for idx, action in enumerate(actions):\n",
    "            if idx < len(actions)-1:\n",
    "                f.write( action + \",\")\n",
    "            else:\n",
    "                f.write(action)\n",
    "        f.write('\"\\n')\n"
   ]
  },
  {
   "cell_type": "code",
   "execution_count": 62,
   "id": "eafd5e11-0707-4c2e-8171-262e65500344",
   "metadata": {},
   "outputs": [
    {
     "data": {
      "text/plain": [
       "{'step_id': 0,\n",
       " 'obs': '-= Welcome to TextWorld, ALFRED! =- You are in the middle of a room. Looking quickly around you, you see a countertop 1, a drawer 1, a drawer 2, a drawer 3, a drawer 4, a drawer 5, a drawer 6, a garbagecan 1, a handtowelholder 1, a handtowelholder 2, a sinkbasin 1, a toilet 1, a toiletpaperhanger 1, a towelholder 1, and a towelholder 2.',\n",
       " 'action': 'look'}"
      ]
     },
     "execution_count": 62,
     "metadata": {},
     "output_type": "execute_result"
    }
   ],
   "source": [
    "idx = 0\n",
    "cnt[idx][\"steps\"][0]"
   ]
  },
  {
   "cell_type": "code",
   "execution_count": 60,
   "id": "a54d3ad4-e371-4cea-9b78-1af8b659c878",
   "metadata": {},
   "outputs": [],
   "source": [
    "idx = 0\n",
    "actions = [step[\"action\"] for step in cnt[idx][\"steps\"]]\n",
    "# actions"
   ]
  },
  {
   "cell_type": "code",
   "execution_count": 61,
   "id": "48408ecb-87af-4712-a867-4c6558950395",
   "metadata": {},
   "outputs": [],
   "source": [
    "idx = 0\n",
    "observations = [step[\"obs\"] for step in cnt[idx][\"steps\"]]\n",
    "# observations "
   ]
  },
  {
   "cell_type": "code",
   "execution_count": null,
   "id": "267c0e75-98fa-431f-8309-683b4dd47825",
   "metadata": {},
   "outputs": [],
   "source": []
  },
  {
   "cell_type": "code",
   "execution_count": null,
   "id": "6c783c23-f559-4d50-a2fd-1a24481fcaac",
   "metadata": {},
   "outputs": [],
   "source": []
  },
  {
   "cell_type": "code",
   "execution_count": null,
   "id": "4a0c42ca-b032-4178-83ca-d3c0e1879a2b",
   "metadata": {},
   "outputs": [],
   "source": []
  },
  {
   "cell_type": "code",
   "execution_count": null,
   "id": "2f852b03-bafc-4870-b2af-c547a30d8dae",
   "metadata": {},
   "outputs": [],
   "source": []
  },
  {
   "cell_type": "markdown",
   "id": "4267e26e-4c15-4be3-a79b-cda156f90748",
   "metadata": {},
   "source": [
    "# 2. NL to predicates"
   ]
  },
  {
   "cell_type": "code",
   "execution_count": 22,
   "id": "53f2f4d1-b05f-48fc-95c2-8f9edfeaaf6d",
   "metadata": {},
   "outputs": [
    {
     "name": "stdout",
     "output_type": "stream",
     "text": [
      "Collecting openai\n",
      "  Obtaining dependency information for openai from https://files.pythonhosted.org/packages/1e/9f/385c25502f437686e4aa715969e5eaf5c2cb5e5ffa7c5cdd52f3c6ae967a/openai-0.28.1-py3-none-any.whl.metadata\n",
      "  Downloading openai-0.28.1-py3-none-any.whl.metadata (11 kB)\n",
      "Requirement already satisfied: requests>=2.20 in /Users/osulea/opt/anaconda3/envs/olca/lib/python3.10/site-packages (from openai) (2.31.0)\n",
      "Requirement already satisfied: tqdm in /Users/osulea/opt/anaconda3/envs/olca/lib/python3.10/site-packages (from openai) (4.66.1)\n",
      "Collecting aiohttp (from openai)\n",
      "  Obtaining dependency information for aiohttp from https://files.pythonhosted.org/packages/fd/2f/d203acfe3a2d1e2823fef5876ff342cc34d08c57748baac2fc67914cea22/aiohttp-3.8.6-cp310-cp310-macosx_10_9_x86_64.whl.metadata\n",
      "  Downloading aiohttp-3.8.6-cp310-cp310-macosx_10_9_x86_64.whl.metadata (7.7 kB)\n",
      "Requirement already satisfied: charset-normalizer<4,>=2 in /Users/osulea/opt/anaconda3/envs/olca/lib/python3.10/site-packages (from requests>=2.20->openai) (3.2.0)\n",
      "Requirement already satisfied: idna<4,>=2.5 in /Users/osulea/opt/anaconda3/envs/olca/lib/python3.10/site-packages (from requests>=2.20->openai) (3.4)\n",
      "Requirement already satisfied: urllib3<3,>=1.21.1 in /Users/osulea/opt/anaconda3/envs/olca/lib/python3.10/site-packages (from requests>=2.20->openai) (2.0.4)\n",
      "Requirement already satisfied: certifi>=2017.4.17 in /Users/osulea/opt/anaconda3/envs/olca/lib/python3.10/site-packages (from requests>=2.20->openai) (2023.7.22)\n",
      "Requirement already satisfied: attrs>=17.3.0 in /Users/osulea/opt/anaconda3/envs/olca/lib/python3.10/site-packages (from aiohttp->openai) (23.1.0)\n",
      "Collecting multidict<7.0,>=4.5 (from aiohttp->openai)\n",
      "  Downloading multidict-6.0.4-cp310-cp310-macosx_10_9_x86_64.whl (29 kB)\n",
      "Collecting async-timeout<5.0,>=4.0.0a3 (from aiohttp->openai)\n",
      "  Obtaining dependency information for async-timeout<5.0,>=4.0.0a3 from https://files.pythonhosted.org/packages/a7/fa/e01228c2938de91d47b307831c62ab9e4001e747789d0b05baf779a6488c/async_timeout-4.0.3-py3-none-any.whl.metadata\n",
      "  Downloading async_timeout-4.0.3-py3-none-any.whl.metadata (4.2 kB)\n",
      "Collecting yarl<2.0,>=1.0 (from aiohttp->openai)\n",
      "  Downloading yarl-1.9.2-cp310-cp310-macosx_10_9_x86_64.whl (65 kB)\n",
      "\u001b[2K     \u001b[90m━━━━━━━━━━━━━━━━━━━━━━━━━━━━━━━━━━━━━━━\u001b[0m \u001b[32m65.7/65.7 kB\u001b[0m \u001b[31m664.0 kB/s\u001b[0m eta \u001b[36m0:00:00\u001b[0ma \u001b[36m0:00:01\u001b[0m\n",
      "\u001b[?25hCollecting frozenlist>=1.1.1 (from aiohttp->openai)\n",
      "  Obtaining dependency information for frozenlist>=1.1.1 from https://files.pythonhosted.org/packages/a3/5b/c785feda30d9fda8c1b1a11941e91253f59aeaf13e87ebe908d0f3f6c628/frozenlist-1.4.0-cp310-cp310-macosx_10_9_x86_64.whl.metadata\n",
      "  Downloading frozenlist-1.4.0-cp310-cp310-macosx_10_9_x86_64.whl.metadata (5.2 kB)\n",
      "Collecting aiosignal>=1.1.2 (from aiohttp->openai)\n",
      "  Downloading aiosignal-1.3.1-py3-none-any.whl (7.6 kB)\n",
      "Downloading openai-0.28.1-py3-none-any.whl (76 kB)\n",
      "\u001b[2K   \u001b[90m━━━━━━━━━━━━━━━━━━━━━━━━━━━━━━━━━━━━━━━━\u001b[0m \u001b[32m77.0/77.0 kB\u001b[0m \u001b[31m1.5 MB/s\u001b[0m eta \u001b[36m0:00:00\u001b[0ma \u001b[36m0:00:01\u001b[0m\n",
      "\u001b[?25hDownloading aiohttp-3.8.6-cp310-cp310-macosx_10_9_x86_64.whl (368 kB)\n",
      "\u001b[2K   \u001b[90m━━━━━━━━━━━━━━━━━━━━━━━━━━━━━━━━━━━━━━━━\u001b[0m \u001b[32m369.0/369.0 kB\u001b[0m \u001b[31m2.9 MB/s\u001b[0m eta \u001b[36m0:00:00\u001b[0m00:01\u001b[0m00:01\u001b[0m\n",
      "\u001b[?25hDownloading async_timeout-4.0.3-py3-none-any.whl (5.7 kB)\n",
      "Downloading frozenlist-1.4.0-cp310-cp310-macosx_10_9_x86_64.whl (46 kB)\n",
      "\u001b[2K   \u001b[90m━━━━━━━━━━━━━━━━━━━━━━━━━━━━━━━━━━━━━━━━\u001b[0m \u001b[32m46.9/46.9 kB\u001b[0m \u001b[31m1.3 MB/s\u001b[0m eta \u001b[36m0:00:00\u001b[0m\n",
      "\u001b[?25hInstalling collected packages: multidict, frozenlist, async-timeout, yarl, aiosignal, aiohttp, openai\n",
      "Successfully installed aiohttp-3.8.6 aiosignal-1.3.1 async-timeout-4.0.3 frozenlist-1.4.0 multidict-6.0.4 openai-0.28.1 yarl-1.9.2\n",
      "Note: you may need to restart the kernel to use updated packages.\n"
     ]
    }
   ],
   "source": [
    "pip install openai"
   ]
  },
  {
   "cell_type": "code",
   "execution_count": null,
   "id": "1c8186e2-5385-4f4b-9323-9dc3005d3dc0",
   "metadata": {},
   "outputs": [],
   "source": []
  },
  {
   "cell_type": "code",
   "execution_count": 26,
   "id": "9df40027-8c03-43a9-bc32-c7cc06ee46b5",
   "metadata": {},
   "outputs": [],
   "source": [
    "import os\n",
    "import codecs\n",
    "import openai\n",
    "openai.organization = \"org-7k2wTcWtQchVCGMLHbLh9BDo\"\n",
    "openai.api_key = os.getenv('OPENAI_API_KEY')"
   ]
  },
  {
   "cell_type": "code",
   "execution_count": 27,
   "id": "67753e43-d1d5-4cc9-be37-d9b8818defd7",
   "metadata": {},
   "outputs": [],
   "source": [
    "models = openai.Model.list().data\n",
    "model_ids = [x.id for x in models]\n",
    "# model_ids"
   ]
  },
  {
   "cell_type": "code",
   "execution_count": null,
   "id": "ca847c81-d324-4888-974d-4c48dfa9ffbc",
   "metadata": {},
   "outputs": [],
   "source": []
  },
  {
   "cell_type": "code",
   "execution_count": 28,
   "id": "9807b7f8-593a-4a7a-9e99-25a7b4364a3d",
   "metadata": {},
   "outputs": [],
   "source": [
    "tasks_gpt3 = []\n",
    "for idx in idxs:\n",
    "    prompt = \"What is the first-order logic predicate formulation \\\n",
    "    for the following natural language task '\" + tasks[idx] + \"'?\" \n",
    "    completion = openai.ChatCompletion.create(\n",
    "      model=\"gpt-3.5-turbo\",\n",
    "      messages=[\n",
    "        {\"role\": \"user\", \"content\": prompt}\n",
    "      ]\n",
    "    )\n",
    "    tasks_gpt3.append(completion.choices[0].message)"
   ]
  },
  {
   "cell_type": "code",
   "execution_count": 57,
   "id": "37a16dea-c9a8-4b6c-96c2-184bee1db735",
   "metadata": {},
   "outputs": [
    {
     "name": "stdout",
     "output_type": "stream",
     "text": [
      "Let A(x) represent the predicate \"x is an alarm clock\" and L(x) represent the predicate \"x is a desk lamp.\"\n",
      "\n",
      "The first-order logic predicate formulation for the given natural language task formulation would be:\n",
      "\n",
      "∃x (A(x) ∧ L(x))\n",
      "\n",
      "This translates to \"There exists an object x such that x is an alarm clock and x is a desk lamp.\"\n"
     ]
    }
   ],
   "source": [
    "print(tasks_gpt3[0].content)"
   ]
  },
  {
   "cell_type": "code",
   "execution_count": 55,
   "id": "ac615f3e-8ec3-41c6-8b9f-6f88cd590436",
   "metadata": {},
   "outputs": [
    {
     "data": {
      "text/plain": [
       "['Let A(x) represent the predicate \"x is an alarm clock\" and L(x) represent the predicate \"x is a desk lamp.\"\\n\\nThe first-order logic predicate formulation for the given natural language task formulation would be:\\n\\n∃x (A(x) ∧ L(x))\\n\\nThis translates to \"There exists an object x such that x is an alarm clock and x is a desk lamp.\"',\n",
       " 'Let L(x) represent \"x is a lamp,\" B(x) represent \"x is a book,\" U(x, y) represent \"x is under y,\" and G(x, y) represent \"x is looking at y.\" \\n\\nThe first-order logic predicate formulation for the given task formulation would be:\\n\\n∃x∃y (B(x) ∧ L(y) ∧ U(x, y) ∧ G(x, y))',\n",
       " 'Let C(x) represent the predicate \"x is a bowl\" and F(x) represent the predicate \"x is in the fridge\". Additionally, let B(x) represent the predicate \"x is clean\".\\n\\nThe first-order logic predicate formulation for the task \"put a clean bowl in fridge\" can be represented as follows:\\n\\n∃x [C(x) ∧ B(x) ∧ F(x)]\\n\\nThis statement can be read as \"There exists an x such that x is a bowl, x is clean, and x is in the fridge.\"',\n",
       " 'P(x, y): \"x cleans y.\"\\nQ(x): \"x puts something in the coffee machine.\"\\n\\nThe first-order logic predicate formulation for the given task would be:\\n∃x ∃y (P(x, y) ∧ Q(x))',\n",
       " 'Let Clean(x) represent the predicate \"x is clean\".\\nLet Knife(x) represent the predicate \"x is a knife\".\\nLet Drawer(x) represent the predicate \"x is a drawer\".\\nLet Put(x, y) represent the predicate \"x puts y\".\\n\\nThe first-order logic predicate formulation for the natural language task \"Put a clean knife in drawer\" would be:\\n\\n∃x ∃y (Clean(x) ∧ Knife(x) ∧ Drawer(y) ∧ Put(x, y))',\n",
       " 'To represent the natural language task \"Heat some plate and put it in countertop\" in first-order logic predicate formulation, we can define the following predicates:\\n\\nH(P) - Plate P is heated.\\nP(T) - Plate P is put on countertop T.\\n\\nThe first-order logic predicate formulation for the given task would be:\\n\\n∃P (H(P) ∧ P(T))\\n\\nThis formula asserts the existence of a plate P such that it is heated (H(P)) and put on the countertop T (P(T)).',\n",
       " 'Let P(x) be \"x is a plate,\" C(x) be \"x is cool,\" and D(x) be \"x is on the dining table.\"\\n\\nThe first-order logic predicate formulation for the given task in natural language would be:\\n∃x (P(x) ∧ C(x) ∧ D(x))',\n",
       " 'Let C(x) denote \"x is cool,\" S(x) denotes \"x is wine,\" B(x) denotes \"x is a bottle,\" P(x, y) denotes \"x put y,\" and D(x) denotes \"x is a dining table.\"\\n\\nThe first-order logic predicate formulation for the given natural language task formulation would be:\\n∃x (C(x) ∧ S(x) ∧ B(x) ∧ ∃y (D(y) ∧ P(x, y)))',\n",
       " 'Let N(x) represent \"x is a newspaper\" and A(x) represent \"x is an armchair\".\\n\\nThe first-order logic predicate formulation for the task \"find two newspapers and put them in an armchair\" can be:\\n\\n∃x ∃y (N(x) ∧ N(y) ∧ A(z) ∧ x ≠ y ∧ x ≠ z ∧ y ≠ z)',\n",
       " 'Let R(x) denote \"x is a remote control\" and A(x) denote \"x is an armchair.\" The first-order logic predicate formulation for the given task would be:\\n\\n∃x∃y(R(x) ∧ R(y) ∧ ¬(x = y) ∧ A(z1) ∧ A(z2) ∧ ¬(z1 = z2))']"
      ]
     },
     "execution_count": 55,
     "metadata": {},
     "output_type": "execute_result"
    }
   ],
   "source": [
    "[x.content for x in tasks_gpt3]"
   ]
  },
  {
   "cell_type": "code",
   "execution_count": 54,
   "id": "c70f2de4-73a4-430f-944d-f42ed4f55d80",
   "metadata": {},
   "outputs": [],
   "source": [
    "# [x.content for x in tasks_gpt3]"
   ]
  },
  {
   "cell_type": "code",
   "execution_count": 31,
   "id": "135ecf4a-2874-4d13-b90c-1cd40c010f3a",
   "metadata": {},
   "outputs": [],
   "source": [
    "tasks_gpt3v2 = []\n",
    "for idx in idxs:\n",
    "    prompt = \"What is the first-order logic predicate formulation for the following natural language task '\" + tasks[idx] + \"'?\" \n",
    "    completion = openai.ChatCompletion.create(\n",
    "      model=\"gpt-3.5-turbo\",\n",
    "      messages=[\n",
    "        {\"role\": \"user\", \"content\": prompt}\n",
    "      ]\n",
    "    )\n",
    "    tasks_gpt3.append(completion.choices[0].message)"
   ]
  },
  {
   "cell_type": "code",
   "execution_count": 38,
   "id": "54f95279-46f2-47dd-87a3-7ef60a035df7",
   "metadata": {},
   "outputs": [],
   "source": [
    "responses = [x.content for x in tasks_gpt3v2]\n"
   ]
  },
  {
   "cell_type": "code",
   "execution_count": null,
   "id": "5d30ffdf-cf12-4a4f-b08f-08f98739141d",
   "metadata": {},
   "outputs": [],
   "source": []
  },
  {
   "cell_type": "code",
   "execution_count": 46,
   "id": "698e931a-047c-45ed-9dd8-b631f3489343",
   "metadata": {},
   "outputs": [],
   "source": [
    "tasks_gpt3_1shotv2 = []\n",
    "for idx in idxs:\n",
    "    prompt = \"The first-order logic predicate representation of \\\n",
    "    'put a clean knife in drawer' is 'put(knife, in(knife, drawer)), clean(knife)'.\\\n",
    "    The first-order logic predicate representation of '\" + tasks[idx] + \"' is \" \n",
    "    completion = openai.ChatCompletion.create(\n",
    "      model=\"gpt-3.5-turbo\",\n",
    "      messages=[\n",
    "        {\"role\": \"user\", \"content\": prompt}\n",
    "      ]\n",
    "    )\n",
    "    tasks_gpt3_1shotv2.append(completion.choices[0].message)"
   ]
  },
  {
   "cell_type": "code",
   "execution_count": 51,
   "id": "877b9236-acda-4a00-991c-72add774d51b",
   "metadata": {},
   "outputs": [
    {
     "name": "stdout",
     "output_type": "stream",
     "text": [
      "examine the alarmclock with the desklamp.\n",
      "look at book under the desklamp.\n",
      "put a clean bowl in fridge.\n",
      "clean some mug and put it in coffeemachine.\n",
      "put a clean knife in drawer.\n",
      "heat some plate and put it in countertop.\n",
      "put a cool plate in diningtable.\n",
      "cool some winebottle and put it in diningtable.\n",
      "find two newspaper and put them in armchair.\n",
      "find two remotecontrol and put them in armchair.\n"
     ]
    }
   ],
   "source": [
    "for idx in idxs:\n",
    "    print(tasks[idx])"
   ]
  },
  {
   "cell_type": "code",
   "execution_count": 48,
   "id": "d114e217-93c2-446c-9548-1d8f4f762a3f",
   "metadata": {},
   "outputs": [
    {
     "data": {
      "text/plain": [
       "['examine(alarm_clock, with(alarm_clock, desklamp)), true(alarm_clock), true(desklamp)',\n",
       " 'look(at(book, under(desklamp))).',\n",
       " \"'put(bowl, in(bowl, fridge)), clean(bowl)'.\",\n",
       " 'clean(mug) and put(mug, in(mug, coffeemachine)).',\n",
       " \"'put(knife, in(knife, drawer)), clean(knife)'\",\n",
       " 'put(plate, in(plate, countertop)), heat(plate)',\n",
       " \"'put(plate, in(plate, diningtable)), cool(plate)'.\",\n",
       " 'cool(winebottle), put(winebottle, in(winebottle, diningtable)).',\n",
       " 'put(newspaper1, in(newspaper1, armchair)), put(newspaper2, in(newspaper2, armchair)), find(newspaper1), find(newspaper2)',\n",
       " 'find(remotecontrol, and(find(remotecontrol, put(remotecontrol, in(armchair)))), remotecontrol).\\n']"
      ]
     },
     "execution_count": 48,
     "metadata": {},
     "output_type": "execute_result"
    }
   ],
   "source": [
    "# prompt, \n",
    "[x.content for x in tasks_gpt3_1shotv2]"
   ]
  },
  {
   "cell_type": "code",
   "execution_count": 50,
   "id": "b5362549-d5b2-40ad-99f7-7df3f67efc25",
   "metadata": {},
   "outputs": [
    {
     "name": "stdout",
     "output_type": "stream",
     "text": [
      "The first-order logic predicate representation of 'put a clean knife in drawer' is 'put(knife, in(knife, drawer)), clean(knife)'. The first-order logic predicate representation of 'find two remotecontrol and put them in armchair.' is \n"
     ]
    }
   ],
   "source": [
    "print(prompt)"
   ]
  },
  {
   "cell_type": "code",
   "execution_count": null,
   "id": "886dec61-a554-4661-a327-c99893195fd6",
   "metadata": {},
   "outputs": [],
   "source": []
  },
  {
   "cell_type": "code",
   "execution_count": 45,
   "id": "d0b80f9c-cf7e-41af-b488-e9b350d80281",
   "metadata": {},
   "outputs": [
    {
     "data": {
      "text/plain": [
       "(\"You know that the first-order logic predicate representation of 'put a clean knife in drawer.' is 'put(knife, in(knife, drawer)), clean(knife)'. Write the first-order logic predicate representation for the following natural language task 'find two remotecontrol and put them in armchair.'.\",\n",
       " ['examine(alarmclock, with(alarmclock, desklamp))',\n",
       "  'look(at(book, under(desklamp)))',\n",
       "  'The first-order logic predicate representation for the task \"put a clean bowl in fridge\" can be represented as follows: \\n\\nput(bowl, in(bowl, fridge)), clean(bowl)',\n",
       "  'clean(mug) and put(mug, in(mug, coffeemachine)).',\n",
       "  'put(knife, in(drawer)), clean(knife)',\n",
       "  'The first-order logic predicate representation for the given task would be:\\n\\nheat(plate) ∧ put(plate, in(plate, countertop))',\n",
       "  \"The first-order logic predicate representation for the given natural language task 'put a cool plate in diningtable' can be expressed as follows:\\n\\nput(plate, in(plate, diningtable)), cool(plate)\",\n",
       "  'cool(winebottle) ∧ put(winebottle, in(winebottle, diningtable))',\n",
       "  'The first-order logic predicate representation for the task \"find two newspapers and put them in the armchair\" can be expressed as: \\n\\n∃x,y [newspaper(x) ∧ newspaper(y) ∧ x ≠ y ∧ put(x, in(x,armchair)) ∧ put(y, in(y,armchair))]',\n",
       "  'To represent the natural language task \"find two remote controls and put them in the armchair\" in first-order logic predicate representation, we can define the following predicates:\\n\\n- remote_control(x): Represents the object x being a remote control.\\n- armchair(x): Represents the object x being an armchair.\\n- find(x): Represents the action of finding object x.\\n- put(x, y): Represents the action of putting object x in object y.\\n\\nUsing these predicates, the first-order logic predicate representation of the given task can be expressed as:\\n\\nfind(remote1) ∧ find(remote2) ∧ remote_control(remote1) ∧ remote_control(remote2) ∧ put(remote1, armchair) ∧ put(remote2, armchair) \\n\\nWhere \"remote1\" and \"remote2\" represent the two remote controls that need to be found and put in the armchair.'])"
      ]
     },
     "execution_count": 45,
     "metadata": {},
     "output_type": "execute_result"
    }
   ],
   "source": [
    "prompt, [x.content for x in tasks_gpt3_1shotv2]"
   ]
  },
  {
   "cell_type": "code",
   "execution_count": 42,
   "id": "f5f8ff20-456f-483f-8b82-5d68eb97db77",
   "metadata": {},
   "outputs": [
    {
     "data": {
      "text/plain": [
       "['examine(alarmclock, with(alarmclock, desklamp))',\n",
       " 'look(at(book, under(desklamp)))',\n",
       " 'The first-order logic predicate representation for the task \"put a clean bowl in the fridge\" would be:\\n\\nput(bowl, in(bowl, fridge)), clean(bowl)',\n",
       " 'To represent the task \"clean some mug and put it in coffeemachine\" using first-order logic predicates, we can use the following representation:\\n\\n∃x (mug(x) ∧ clean(x) ∧ put(x, in(x, coffeemachine)))\\n\\nExplanation:\\n\\n∃x - There exists an object x.\\nmug(x) - x is a mug.\\nclean(x) - x is clean.\\nput(x, in(x, coffeemachine)) - x is put inside the coffeemachine.',\n",
       " 'put(knife, in(drawer)), clean(knife)',\n",
       " 'heat(plate) ∧ put(plate, in(plate, countertop))',\n",
       " 'To represent the task \"put a cool plate in dining table\" in first-order logic predicate, we can use the following representation:\\n\\nput(plate, in(plate, dining_table)), cool(plate)\\n\\nWhere:\\n- put(plate, in(plate, dining_table)) represents the action of putting the plate in the dining table.\\n- cool(plate) represents the property of the plate being cool.',\n",
       " 'cool(winebottle) ∧ put(winebottle, in(winebottle, diningtable))',\n",
       " \"Let's break down the task into smaller steps:\\n\\n1. Find two newspapers: find(newspaper1) and find(newspaper2)\\n2. Put them in the armchair: put(newspaper1, in(newspaper1, armchair)) and put(newspaper2, in(newspaper2, armchair))\\n\\nTherefore, the first-order logic predicate representation for the task 'find two newspapers and put them in the armchair' would be:\\n\\nfind(newspaper1) ∧ find(newspaper2) ∧ put(newspaper1, in(newspaper1, armchair)) ∧ put(newspaper2, in(newspaper2, armchair))\",\n",
       " 'To represent the given natural language task \"find two remote controls and put them in the armchair\" in first-order logic, we can use the following predicate representation:\\n\\nfind(x, object(x) ∧ remoteControl(x) ∧ isQueried(x)) ∧\\nfind(y, object(y) ∧ remoteControl(y) ∧ isQueried(y)) ∧\\nput(x, in(x, armchair)) ∧ put(y, in(y, armchair))\\n\\nThis representation includes the following predicates:\\n- find(x, P): It states that an object x is being searched for, with the additional conditions defined by predicate P.\\n- object(x): It specifies that x is an object.\\n- remoteControl(x): It indicates that x is a remote control.\\n- isQueried(x): It states that x is part of the objects that need to be found.\\n- put(x, in(y)): It describes that x is being put in y.']"
      ]
     },
     "execution_count": 42,
     "metadata": {},
     "output_type": "execute_result"
    }
   ],
   "source": [
    "[x.content for x in tasks_gpt3_1shot]"
   ]
  },
  {
   "cell_type": "code",
   "execution_count": null,
   "id": "a66d9d37-bdb1-4d69-9767-57b2296583ac",
   "metadata": {},
   "outputs": [],
   "source": []
  },
  {
   "cell_type": "code",
   "execution_count": null,
   "id": "2aa509d8-2e2a-4cdb-a6da-e40193d801ae",
   "metadata": {},
   "outputs": [],
   "source": []
  },
  {
   "cell_type": "code",
   "execution_count": null,
   "id": "ef203b50-9f68-4beb-a45a-688082607bae",
   "metadata": {},
   "outputs": [],
   "source": [
    "tasks_gpt3_1shotv2 = []\n",
    "for idx in idxs:\n",
    "    prompt = \"The first-order logic predicate representation of 'examine alarm clock with desklamp' is 'examine(alarmclock, in(knife, drawer)), clean(knife)'. The first-order logic predicate representation of '\" + tasks[idx] + \"' is \" \n",
    "    completion = openai.ChatCompletion.create(\n",
    "      model=\"gpt-3.5-turbo\",\n",
    "      messages=[\n",
    "        {\"role\": \"user\", \"content\": prompt}\n",
    "      ]\n",
    "    )\n",
    "    tasks_gpt3_1shotv2.append(completion.choices[0].message)"
   ]
  },
  {
   "cell_type": "code",
   "execution_count": null,
   "id": "da4d2d32-ee39-4c14-82dc-6421f6d1661b",
   "metadata": {},
   "outputs": [],
   "source": []
  },
  {
   "cell_type": "code",
   "execution_count": null,
   "id": "5cf3ad5e-1280-4ca0-bca6-27b47671dcb2",
   "metadata": {},
   "outputs": [],
   "source": []
  }
 ],
 "metadata": {
  "kernelspec": {
   "display_name": "Python 3 (ipykernel)",
   "language": "python",
   "name": "python3"
  },
  "language_info": {
   "codemirror_mode": {
    "name": "ipython",
    "version": 3
   },
   "file_extension": ".py",
   "mimetype": "text/x-python",
   "name": "python",
   "nbconvert_exporter": "python",
   "pygments_lexer": "ipython3",
   "version": "3.11.7"
  }
 },
 "nbformat": 4,
 "nbformat_minor": 5
}
