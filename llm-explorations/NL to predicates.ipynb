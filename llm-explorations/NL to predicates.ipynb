{
 "cells": [
  {
   "cell_type": "code",
   "execution_count": 4,
   "id": "66d09713-1b8b-4b0a-94ad-095219cb5fa2",
   "metadata": {},
   "outputs": [],
   "source": [
    "import json\n",
    "import pandas as pd"
   ]
  },
  {
   "cell_type": "markdown",
   "id": "297ee611-4b96-40cc-9d95-ecb648dfd2b7",
   "metadata": {},
   "source": [
    "# 1. NL to actions"
   ]
  },
  {
   "cell_type": "code",
   "execution_count": 5,
   "id": "bbc4d8cb-f533-408d-9d4e-e0a7b11c3c18",
   "metadata": {},
   "outputs": [
    {
     "name": "stdout",
     "output_type": "stream",
     "text": [
      "790\n",
      "308\n",
      "650\n",
      "459\n",
      "533\n",
      "813\n"
     ]
    },
    {
     "data": {
      "text/plain": [
       "3553"
      ]
     },
     "execution_count": 5,
     "metadata": {},
     "output_type": "execute_result"
    }
   ],
   "source": [
    "# read all train tasks json data \n",
    "cnt = []\n",
    "for i in range(1,7):\n",
    "    df = pd.read_json(\"tw_alfred_seq2seq_train_task\"+str(i)+\"_hc.json\")\n",
    "    print(len(df))\n",
    "    cnt.extend(df.data.to_list())\n",
    "len(cnt)"
   ]
  },
  {
   "cell_type": "code",
   "execution_count": 67,
   "id": "9009467b-42c9-4901-b778-4f682a3e3871",
   "metadata": {},
   "outputs": [],
   "source": [
    "# cnt[0][\"task\"], cnt[0][\"steps\"]"
   ]
  },
  {
   "cell_type": "markdown",
   "id": "9a0c31b5-f87a-4cc0-81a9-3bc2da50df58",
   "metadata": {},
   "source": [
    "We want to get top 10 types of tasks"
   ]
  },
  {
   "cell_type": "code",
   "execution_count": 6,
   "id": "60a0b552-6b7a-4d94-9c10-2aea2d39004b",
   "metadata": {},
   "outputs": [
    {
     "data": {
      "text/plain": [
       "(3553, 3553, {'clean', 'cool', 'examine', 'find', 'heat', 'look', 'put'})"
      ]
     },
     "execution_count": 6,
     "metadata": {},
     "output_type": "execute_result"
    }
   ],
   "source": [
    "# get total types of tasks based on first word\n",
    "tasks = [x[\"task\"] for x in cnt]\n",
    "steps = [x[\"steps\"] for x in cnt]\n",
    "len(tasks), len(steps), set([x.split()[0] for x in tasks])"
   ]
  },
  {
   "cell_type": "code",
   "execution_count": 7,
   "id": "843e2bcd-65d7-46d2-ad2c-f32cf75879d1",
   "metadata": {},
   "outputs": [
    {
     "data": {
      "text/plain": [
       "'find two newspaper and put them in sofa.'"
      ]
     },
     "execution_count": 7,
     "metadata": {},
     "output_type": "execute_result"
    }
   ],
   "source": [
    "tasks[-1]"
   ]
  },
  {
   "cell_type": "markdown",
   "id": "4232a94c-c116-4c2d-84af-eb8762b1f409",
   "metadata": {},
   "source": [
    "Looks like we also have complex tasks too. How many?"
   ]
  },
  {
   "cell_type": "code",
   "execution_count": 8,
   "id": "934ff46b-e746-4b3a-8f40-6d94222c2740",
   "metadata": {},
   "outputs": [
    {
     "data": {
      "text/plain": [
       "0.35040810582606247"
      ]
     },
     "execution_count": 8,
     "metadata": {},
     "output_type": "execute_result"
    }
   ],
   "source": [
    "len([x for x in tasks if \" and \" in x])/ len(tasks)"
   ]
  },
  {
   "cell_type": "code",
   "execution_count": 9,
   "id": "74c63f99-5b21-4401-997d-f89313cfc5f8",
   "metadata": {},
   "outputs": [
    {
     "data": {
      "text/plain": [
       "0.794821277793414"
      ]
     },
     "execution_count": 9,
     "metadata": {},
     "output_type": "execute_result"
    }
   ],
   "source": [
    "len([x for x in tasks if \" in \" in x])/ len(tasks)"
   ]
  },
  {
   "cell_type": "code",
   "execution_count": 10,
   "id": "592eb5a1-c70c-45a3-a58f-7acd88f72ce0",
   "metadata": {},
   "outputs": [
    {
     "data": {
      "text/plain": [
       "0.118491415705038"
      ]
     },
     "execution_count": 10,
     "metadata": {},
     "output_type": "execute_result"
    }
   ],
   "source": [
    "len([x for x in tasks if \" on \" in x])/ len(tasks)"
   ]
  },
  {
   "cell_type": "markdown",
   "id": "afe04996-647c-48be-aacf-81b59fd54fcc",
   "metadata": {},
   "source": [
    "any other prominent stopwords? - TODO\n",
    "\n",
    "Let's look at each task type"
   ]
  },
  {
   "cell_type": "code",
   "execution_count": 11,
   "id": "065fae7a-1cee-4ad4-8d6d-dd98a9db0629",
   "metadata": {},
   "outputs": [
    {
     "data": {
      "text/plain": [
       "(2000, 650, 220, 533, 176, 433, 132)"
      ]
     },
     "execution_count": 11,
     "metadata": {},
     "output_type": "execute_result"
    }
   ],
   "source": [
    "put_tasks = [(idx, x) for idx, x in enumerate(tasks) if \"put\" in x and \" and \" not in x]\n",
    "clean_tasks = [(idx, x) for idx, x in enumerate(tasks) if \"clean\" in x ]\n",
    "heat_tasks = [(idx, x) for idx, x in enumerate(tasks) if \"heat\" in x ]\n",
    "cool_tasks = [(idx, x) for idx, x in enumerate(tasks) if \"cool\" in x ]\n",
    "examine_tasks = [(idx, x) for idx, x in enumerate(tasks) if \"examine\" in x ]\n",
    "find_tasks = [(idx, x) for idx, x in enumerate(tasks) if \"find\" in x ]\n",
    "look_tasks = [(idx, x) for idx, x in enumerate(tasks) if \"look\" in x ]\n",
    "\n",
    "len(put_tasks), len(clean_tasks), len(heat_tasks), len(cool_tasks), len(examine_tasks), len(find_tasks), len(look_tasks)"
   ]
  },
  {
   "cell_type": "code",
   "execution_count": 157,
   "id": "e680ba31-cd03-4e14-8a01-adc8b24cd7bf",
   "metadata": {},
   "outputs": [],
   "source": [
    "# look_tasks"
   ]
  },
  {
   "cell_type": "code",
   "execution_count": null,
   "id": "3d891f23-1289-44a7-a180-871410f1dc22",
   "metadata": {},
   "outputs": [],
   "source": [
    "idxs = [794, 1088, 1124, 1195, 1555, 1787, 2228, 2326, 2816, 2829]"
   ]
  },
  {
   "cell_type": "code",
   "execution_count": 13,
   "id": "bb8fdb94-2b6e-4dbb-acda-05dad5c75209",
   "metadata": {},
   "outputs": [
    {
     "name": "stdout",
     "output_type": "stream",
     "text": [
      "examine the alarmclock with the desklamp.\n",
      "look at book under the desklamp.\n",
      "put a clean bowl in fridge.\n",
      "clean some mug and put it in coffeemachine.\n",
      "put a clean knife in drawer.\n",
      "heat some plate and put it in countertop.\n",
      "put a cool plate in diningtable.\n",
      "cool some winebottle and put it in diningtable.\n",
      "find two newspaper and put them in armchair.\n",
      "find two remotecontrol and put them in armchair.\n"
     ]
    }
   ],
   "source": [
    "for idx in idxs:\n",
    "    print(tasks[idx])"
   ]
  },
  {
   "cell_type": "code",
   "execution_count": 162,
   "id": "e20449c3-4252-4a2d-a480-53358170edb0",
   "metadata": {},
   "outputs": [],
   "source": [
    "# idxs = [794, 1088, 1124, 1195, 1555, 1787, 2228, 2326, 2816, 2829]\n",
    "with open(\"selected_nl-action_pairs.csv\", \"w\") as f:\n",
    "    for idx in idxs:\n",
    "        f.write(str(idx) +\",\"+ tasks[idx] + ',\"')\n",
    "        actions = [x[\"action\"] for x in steps[idx]]\n",
    "        for idx, action in enumerate(actions):\n",
    "            if idx < len(actions)-1:\n",
    "                f.write( action + \",\")\n",
    "            else:\n",
    "                f.write(action)\n",
    "        f.write('\"\\n')\n"
   ]
  },
  {
   "cell_type": "code",
   "execution_count": 62,
   "id": "eafd5e11-0707-4c2e-8171-262e65500344",
   "metadata": {},
   "outputs": [
    {
     "data": {
      "text/plain": [
       "{'step_id': 0,\n",
       " 'obs': '-= Welcome to TextWorld, ALFRED! =- You are in the middle of a room. Looking quickly around you, you see a countertop 1, a drawer 1, a drawer 2, a drawer 3, a drawer 4, a drawer 5, a drawer 6, a garbagecan 1, a handtowelholder 1, a handtowelholder 2, a sinkbasin 1, a toilet 1, a toiletpaperhanger 1, a towelholder 1, and a towelholder 2.',\n",
       " 'action': 'look'}"
      ]
     },
     "execution_count": 62,
     "metadata": {},
     "output_type": "execute_result"
    }
   ],
   "source": [
    "idx = 0\n",
    "cnt[idx][\"steps\"][0]"
   ]
  },
  {
   "cell_type": "code",
   "execution_count": 60,
   "id": "a54d3ad4-e371-4cea-9b78-1af8b659c878",
   "metadata": {},
   "outputs": [],
   "source": [
    "idx = 0\n",
    "actions = [step[\"action\"] for step in cnt[idx][\"steps\"]]\n",
    "# actions"
   ]
  },
  {
   "cell_type": "code",
   "execution_count": 61,
   "id": "48408ecb-87af-4712-a867-4c6558950395",
   "metadata": {},
   "outputs": [],
   "source": [
    "idx = 0\n",
    "observations = [step[\"obs\"] for step in cnt[idx][\"steps\"]]\n",
    "# observations "
   ]
  },
  {
   "cell_type": "code",
   "execution_count": null,
   "id": "267c0e75-98fa-431f-8309-683b4dd47825",
   "metadata": {},
   "outputs": [],
   "source": []
  },
  {
   "cell_type": "code",
   "execution_count": null,
   "id": "6c783c23-f559-4d50-a2fd-1a24481fcaac",
   "metadata": {},
   "outputs": [],
   "source": []
  },
  {
   "cell_type": "code",
   "execution_count": null,
   "id": "4a0c42ca-b032-4178-83ca-d3c0e1879a2b",
   "metadata": {},
   "outputs": [],
   "source": []
  },
  {
   "cell_type": "code",
   "execution_count": null,
   "id": "2f852b03-bafc-4870-b2af-c547a30d8dae",
   "metadata": {},
   "outputs": [],
   "source": []
  },
  {
   "cell_type": "markdown",
   "id": "4267e26e-4c15-4be3-a79b-cda156f90748",
   "metadata": {},
   "source": [
    "# 2. NL to predicates"
   ]
  },
  {
   "cell_type": "code",
   "execution_count": null,
   "id": "9df40027-8c03-43a9-bc32-c7cc06ee46b5",
   "metadata": {},
   "outputs": [],
   "source": []
  },
  {
   "cell_type": "code",
   "execution_count": null,
   "id": "67753e43-d1d5-4cc9-be37-d9b8818defd7",
   "metadata": {},
   "outputs": [],
   "source": []
  },
  {
   "cell_type": "code",
   "execution_count": null,
   "id": "ca847c81-d324-4888-974d-4c48dfa9ffbc",
   "metadata": {},
   "outputs": [],
   "source": []
  },
  {
   "cell_type": "code",
   "execution_count": null,
   "id": "5d30ffdf-cf12-4a4f-b08f-08f98739141d",
   "metadata": {},
   "outputs": [],
   "source": []
  }
 ],
 "metadata": {
  "kernelspec": {
   "display_name": "Python 3 (ipykernel)",
   "language": "python",
   "name": "python3"
  },
  "language_info": {
   "codemirror_mode": {
    "name": "ipython",
    "version": 3
   },
   "file_extension": ".py",
   "mimetype": "text/x-python",
   "name": "python",
   "nbconvert_exporter": "python",
   "pygments_lexer": "ipython3",
   "version": "3.11.7"
  }
 },
 "nbformat": 4,
 "nbformat_minor": 5
}
